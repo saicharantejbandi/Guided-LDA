{
  "nbformat": 4,
  "nbformat_minor": 0,
  "metadata": {
    "colab": {
      "name": "Guided LDA.ipynb",
      "provenance": [],
      "collapsed_sections": [],
      "toc_visible": true
    },
    "kernelspec": {
      "name": "python3",
      "display_name": "Python 3"
    }
  },
  "cells": [
    {
      "cell_type": "code",
      "metadata": {
        "id": "niIEkZX7s1zC",
        "colab_type": "code",
        "colab": {}
      },
      "source": [
        ""
      ],
      "execution_count": 0,
      "outputs": []
    },
    {
      "cell_type": "code",
      "metadata": {
        "id": "WriNyHLqs3wd",
        "colab_type": "code",
        "outputId": "9bf17bf8-a02a-47c2-cd40-e081a6b478fe",
        "colab": {
          "base_uri": "https://localhost:8080/",
          "height": 625
        }
      },
      "source": [
        "!pip install guidedlda\n",
        "!pip install pandas\n",
        "!pip install gensim\n",
        "!pip install os\n",
        "\n"
      ],
      "execution_count": 0,
      "outputs": [
        {
          "output_type": "stream",
          "text": [
            "Collecting guidedlda\n",
            "\u001b[?25l  Downloading https://files.pythonhosted.org/packages/f8/ee/6d6e2b3525388399e12a4482554c7529a5fcf5e99c50a60abaa02894b8bf/guidedlda-2.0.0.dev22.tar.gz (2.1MB)\n",
            "\u001b[K     |████████████████████████████████| 2.1MB 2.8MB/s \n",
            "\u001b[?25hRequirement already satisfied: numpy in /usr/local/lib/python3.6/dist-packages (from guidedlda) (1.17.5)\n",
            "Building wheels for collected packages: guidedlda\n",
            "  Building wheel for guidedlda (setup.py) ... \u001b[?25l\u001b[?25hdone\n",
            "  Created wheel for guidedlda: filename=guidedlda-2.0.0.dev22-cp36-cp36m-linux_x86_64.whl size=2479786 sha256=32251a86823612945ec2eb68c8ba01b75030771c2b8cbbaa4d98c319bd245602\n",
            "  Stored in directory: /root/.cache/pip/wheels/cf/cb/c4/95897cbe4e2e12bd01db3c5cb004c744d2cfd68ecc692ce39e\n",
            "Successfully built guidedlda\n",
            "Installing collected packages: guidedlda\n",
            "Successfully installed guidedlda-2.0.0.dev22\n",
            "Requirement already satisfied: pandas in /usr/local/lib/python3.6/dist-packages (0.25.3)\n",
            "Requirement already satisfied: pytz>=2017.2 in /usr/local/lib/python3.6/dist-packages (from pandas) (2018.9)\n",
            "Requirement already satisfied: python-dateutil>=2.6.1 in /usr/local/lib/python3.6/dist-packages (from pandas) (2.6.1)\n",
            "Requirement already satisfied: numpy>=1.13.3 in /usr/local/lib/python3.6/dist-packages (from pandas) (1.17.5)\n",
            "Requirement already satisfied: six>=1.5 in /usr/local/lib/python3.6/dist-packages (from python-dateutil>=2.6.1->pandas) (1.12.0)\n",
            "Requirement already satisfied: gensim in /usr/local/lib/python3.6/dist-packages (3.6.0)\n",
            "Requirement already satisfied: numpy>=1.11.3 in /usr/local/lib/python3.6/dist-packages (from gensim) (1.17.5)\n",
            "Requirement already satisfied: smart-open>=1.2.1 in /usr/local/lib/python3.6/dist-packages (from gensim) (1.9.0)\n",
            "Requirement already satisfied: six>=1.5.0 in /usr/local/lib/python3.6/dist-packages (from gensim) (1.12.0)\n",
            "Requirement already satisfied: scipy>=0.18.1 in /usr/local/lib/python3.6/dist-packages (from gensim) (1.4.1)\n",
            "Requirement already satisfied: boto>=2.32 in /usr/local/lib/python3.6/dist-packages (from smart-open>=1.2.1->gensim) (2.49.0)\n",
            "Requirement already satisfied: boto3 in /usr/local/lib/python3.6/dist-packages (from smart-open>=1.2.1->gensim) (1.11.15)\n",
            "Requirement already satisfied: requests in /usr/local/lib/python3.6/dist-packages (from smart-open>=1.2.1->gensim) (2.21.0)\n",
            "Requirement already satisfied: jmespath<1.0.0,>=0.7.1 in /usr/local/lib/python3.6/dist-packages (from boto3->smart-open>=1.2.1->gensim) (0.9.4)\n",
            "Requirement already satisfied: s3transfer<0.4.0,>=0.3.0 in /usr/local/lib/python3.6/dist-packages (from boto3->smart-open>=1.2.1->gensim) (0.3.3)\n",
            "Requirement already satisfied: botocore<1.15.0,>=1.14.15 in /usr/local/lib/python3.6/dist-packages (from boto3->smart-open>=1.2.1->gensim) (1.14.15)\n",
            "Requirement already satisfied: urllib3<1.25,>=1.21.1 in /usr/local/lib/python3.6/dist-packages (from requests->smart-open>=1.2.1->gensim) (1.24.3)\n",
            "Requirement already satisfied: idna<2.9,>=2.5 in /usr/local/lib/python3.6/dist-packages (from requests->smart-open>=1.2.1->gensim) (2.8)\n",
            "Requirement already satisfied: certifi>=2017.4.17 in /usr/local/lib/python3.6/dist-packages (from requests->smart-open>=1.2.1->gensim) (2019.11.28)\n",
            "Requirement already satisfied: chardet<3.1.0,>=3.0.2 in /usr/local/lib/python3.6/dist-packages (from requests->smart-open>=1.2.1->gensim) (3.0.4)\n",
            "Requirement already satisfied: python-dateutil<3.0.0,>=2.1 in /usr/local/lib/python3.6/dist-packages (from botocore<1.15.0,>=1.14.15->boto3->smart-open>=1.2.1->gensim) (2.6.1)\n",
            "Requirement already satisfied: docutils<0.16,>=0.10 in /usr/local/lib/python3.6/dist-packages (from botocore<1.15.0,>=1.14.15->boto3->smart-open>=1.2.1->gensim) (0.15.2)\n",
            "\u001b[31mERROR: Could not find a version that satisfies the requirement os (from versions: none)\u001b[0m\n",
            "\u001b[31mERROR: No matching distribution found for os\u001b[0m\n"
          ],
          "name": "stdout"
        }
      ]
    },
    {
      "cell_type": "code",
      "metadata": {
        "id": "qpGfnvQ1s6nw",
        "colab_type": "code",
        "colab": {}
      },
      "source": [
        "import nltk\n",
        "import nltk.stem as stemmer\n",
        "import numpy as np\n",
        "\n",
        "import pandas as pd\n",
        "from nltk.corpus import stopwords\n",
        "from gensim.corpora import Dictionary\n",
        "from gensim.test.utils import get_tmpfile\n",
        "import gensim\n",
        "from gensim import corpora\n",
        "from pprint import pprint\n",
        "from gensim.utils import simple_preprocess\n",
        "from smart_open import smart_open\n",
        "from nltk.corpus import stopwords\n",
        "from gensim.parsing.preprocessing import remove_stopwords"
      ],
      "execution_count": 0,
      "outputs": []
    },
    {
      "cell_type": "code",
      "metadata": {
        "id": "yDSzAVh8tBpB",
        "colab_type": "code",
        "colab": {}
      },
      "source": [
        "import guidedlda"
      ],
      "execution_count": 0,
      "outputs": []
    },
    {
      "cell_type": "code",
      "metadata": {
        "id": "nj_dYORHtD1V",
        "colab_type": "code",
        "colab": {}
      },
      "source": [
        "\n",
        "x=pd.read_csv(\"/content/science_new.csv\")\n"
      ],
      "execution_count": 0,
      "outputs": []
    },
    {
      "cell_type": "code",
      "metadata": {
        "id": "aIOWi2BUtFw5",
        "colab_type": "code",
        "colab": {}
      },
      "source": [
        "X=[]\n",
        "for i, row in x.iterrows():\n",
        "        X.append(row['body_no_quote'])"
      ],
      "execution_count": 0,
      "outputs": []
    },
    {
      "cell_type": "code",
      "metadata": {
        "id": "QAZppkb2tO8b",
        "colab_type": "code",
        "outputId": "770b798e-9209-40e0-9260-e9e5fee75ae4",
        "colab": {
          "base_uri": "https://localhost:8080/",
          "height": 101
        }
      },
      "source": [
        "from nltk.stem import WordNetLemmatizer\n",
        "import re\n",
        "nltk.download('stopwords')\n",
        "import nltk\n",
        "nltk.download('wordnet')"
      ],
      "execution_count": 0,
      "outputs": [
        {
          "output_type": "stream",
          "text": [
            "[nltk_data] Downloading package stopwords to /root/nltk_data...\n",
            "[nltk_data]   Package stopwords is already up-to-date!\n",
            "[nltk_data] Downloading package wordnet to /root/nltk_data...\n",
            "[nltk_data]   Unzipping corpora/wordnet.zip.\n"
          ],
          "name": "stdout"
        },
        {
          "output_type": "execute_result",
          "data": {
            "text/plain": [
              "True"
            ]
          },
          "metadata": {
            "tags": []
          },
          "execution_count": 11
        }
      ]
    },
    {
      "cell_type": "code",
      "metadata": {
        "id": "l1PgMqzUt-hn",
        "colab_type": "code",
        "outputId": "21df267c-637e-43bb-bd17-390bd22feb71",
        "colab": {
          "base_uri": "https://localhost:8080/",
          "height": 34
        }
      },
      "source": [
        "stemmer = WordNetLemmatizer()\n",
        "documents=[]\n",
        "for sen in range(0, len(X)):\n",
        "  \n",
        "  document = re.sub(r'\\W', ' ', str(X[sen]))\n",
        "  document=document.lower()\n",
        "  # remove all single characters\n",
        "  document = re.sub(r'\\s+[a-zA-Z]\\s+', ' ', document)\n",
        "  \n",
        "  # Remove single characters from the start\n",
        "  document = re.sub(r'\\^[a-zA-Z]\\s+', ' ', document) \n",
        "  \n",
        "  # Substituting multiple spaces with single space\n",
        "  document = re.sub(r'\\s+', ' ', document, flags=re.I)\n",
        "  \n",
        "  # Removing prefixed 'b'\n",
        "  document = re.sub(r'^b\\s+', '', document)\n",
        "  \n",
        "  # Converting to Lowercase\n",
        "  #document = document.lower()\n",
        "  document=remove_stopwords(document)\n",
        "  # Lemmatization\n",
        "  document = document.split()\n",
        "\n",
        "  document = [stemmer.lemmatize(word) for word in document]\n",
        "  document = ' '.join(document)\n",
        "  \n",
        "  documents.append(document)              \n",
        "        \n",
        "'''\n",
        "documents = list(dict.fromkeys(documents))\n",
        "from sklearn.feature_extraction.text import CountVectorizer\n",
        "vectorizer = CountVectorizer()\n",
        "X = vectorizer.fit_transform(documents).toarray()\n",
        "'''\n",
        "stop_words = set(stopwords.words('english'))\n",
        "texts = [[text for text in doc.split()] for doc in documents]\n",
        "for i in texts:\n",
        "\n",
        "  for j in i:\n",
        "\n",
        "    if j in stop_words:\n",
        "\n",
        "      i.remove(j)\n",
        "          \n",
        "        \n",
        "dictionary = corpora.Dictionary(texts)\n",
        "print(dictionary)\n",
        "tokenized_list = [simple_preprocess(doc) for doc in documents]\n",
        "\n",
        "mydict = corpora.Dictionary()\n",
        "mycorpus = [mydict.doc2bow(doc, allow_update=True) for doc in tokenized_list]\n",
        "\n",
        "matrix=[]\n",
        "#Y=[]\n",
        "#Y.extend(matrix)\n",
        "vocab=tuple(mydict.token2id.keys())\n",
        "for i in range(len(mycorpus)):\n",
        "\n",
        "  word=[]\n",
        "  count=[]\n",
        "  temp=[]\n",
        "  for tu in mycorpus[i]:\n",
        "    \n",
        "    word.append(tu[0])\n",
        "    count.append(tu[1])\n",
        "    #print(word,count)\n",
        "  for j in range(0,len(vocab)):\n",
        "    if j in word:\n",
        "      temp.append(count[word.index(j)])\n",
        "    else:\n",
        "      temp.append(0)\n",
        "  matrix.append(temp)"
      ],
      "execution_count": 0,
      "outputs": [
        {
          "output_type": "stream",
          "text": [
            "Dictionary(5224 unique tokens: ['blogspam', 'image', 'infographic', 'post', 'removed']...)\n"
          ],
          "name": "stdout"
        }
      ]
    },
    {
      "cell_type": "code",
      "metadata": {
        "id": "S0O3XWSLyiZx",
        "colab_type": "code",
        "colab": {}
      },
      "source": [
        "#vocab = guidedlda.datasets.load_vocab(guidedlda.datasets.NYT)"
      ],
      "execution_count": 0,
      "outputs": []
    },
    {
      "cell_type": "code",
      "metadata": {
        "id": "h7BZDSeMyxyc",
        "colab_type": "code",
        "colab": {}
      },
      "source": [
        "vocab=tuple(mydict.token2id.keys())"
      ],
      "execution_count": 0,
      "outputs": []
    },
    {
      "cell_type": "code",
      "metadata": {
        "id": "O2_RL8JdzijC",
        "colab_type": "code",
        "outputId": "51a0cd44-c746-4057-bfdc-be4f05927cd0",
        "colab": {
          "base_uri": "https://localhost:8080/",
          "height": 34
        }
      },
      "source": [
        "len(vocab)"
      ],
      "execution_count": 0,
      "outputs": [
        {
          "output_type": "execute_result",
          "data": {
            "text/plain": [
              "4934"
            ]
          },
          "metadata": {
            "tags": []
          },
          "execution_count": 15
        }
      ]
    },
    {
      "cell_type": "code",
      "metadata": {
        "id": "71zuW4h91yS_",
        "colab_type": "code",
        "colab": {}
      },
      "source": [
        "word2id = mydict.token2id"
      ],
      "execution_count": 0,
      "outputs": []
    },
    {
      "cell_type": "code",
      "metadata": {
        "id": "zVT-M9Vy16e9",
        "colab_type": "code",
        "colab": {}
      },
      "source": [
        "model = guidedlda.GuidedLDA(n_topics=4, n_iter=100, random_state=7, refresh=20)"
      ],
      "execution_count": 0,
      "outputs": []
    },
    {
      "cell_type": "code",
      "metadata": {
        "id": "4PxRl-r62u7r",
        "colab_type": "code",
        "colab": {}
      },
      "source": [
        "X=np.array(matrix) \n"
      ],
      "execution_count": 0,
      "outputs": []
    },
    {
      "cell_type": "code",
      "metadata": {
        "id": "DIiCY8rR2wyF",
        "colab_type": "code",
        "outputId": "fccb7b09-197f-494a-f8a0-aee2bb3b0b65",
        "colab": {
          "base_uri": "https://localhost:8080/",
          "height": 34
        }
      },
      "source": [
        "X.shape"
      ],
      "execution_count": 0,
      "outputs": [
        {
          "output_type": "execute_result",
          "data": {
            "text/plain": [
              "(3086, 4934)"
            ]
          },
          "metadata": {
            "tags": []
          },
          "execution_count": 19
        }
      ]
    },
    {
      "cell_type": "code",
      "metadata": {
        "id": "hoT7CrDh3Rk0",
        "colab_type": "code",
        "outputId": "fed7b5b6-4ced-47ac-ab98-187bb4e451d3",
        "colab": {
          "base_uri": "https://localhost:8080/",
          "height": 34
        }
      },
      "source": [
        "type(X)"
      ],
      "execution_count": 0,
      "outputs": [
        {
          "output_type": "execute_result",
          "data": {
            "text/plain": [
              "numpy.ndarray"
            ]
          },
          "metadata": {
            "tags": []
          },
          "execution_count": 20
        }
      ]
    },
    {
      "cell_type": "code",
      "metadata": {
        "id": "qq5wiA2r3aWk",
        "colab_type": "code",
        "outputId": "f7a90b54-7ccd-4f96-c08a-b7ec05fe0e99",
        "colab": {
          "base_uri": "https://localhost:8080/",
          "height": 235
        }
      },
      "source": [
        "model.fit(X)"
      ],
      "execution_count": 0,
      "outputs": [
        {
          "output_type": "stream",
          "text": [
            "INFO:guidedlda:n_documents: 3086\n",
            "INFO:guidedlda:vocab_size: 4934\n",
            "INFO:guidedlda:n_words: 35443\n",
            "INFO:guidedlda:n_topics: 4\n",
            "INFO:guidedlda:n_iter: 100\n",
            "WARNING:guidedlda:all zero row in document-term matrix found\n",
            "INFO:guidedlda:<0> log likelihood: -344574\n",
            "INFO:guidedlda:<20> log likelihood: -253306\n",
            "INFO:guidedlda:<40> log likelihood: -241671\n",
            "INFO:guidedlda:<60> log likelihood: -238323\n",
            "INFO:guidedlda:<80> log likelihood: -236420\n",
            "INFO:guidedlda:<99> log likelihood: -235345\n"
          ],
          "name": "stderr"
        },
        {
          "output_type": "execute_result",
          "data": {
            "text/plain": [
              "<guidedlda.guidedlda.GuidedLDA at 0x7f2d1a143550>"
            ]
          },
          "metadata": {
            "tags": []
          },
          "execution_count": 21
        }
      ]
    },
    {
      "cell_type": "code",
      "metadata": {
        "id": "eynIRT243zon",
        "colab_type": "code",
        "colab": {}
      },
      "source": [
        "topic_word = model.topic_word_"
      ],
      "execution_count": 0,
      "outputs": []
    },
    {
      "cell_type": "code",
      "metadata": {
        "id": "cJv3qG7e35Qo",
        "colab_type": "code",
        "colab": {}
      },
      "source": [
        "n_top_words = 8"
      ],
      "execution_count": 0,
      "outputs": []
    },
    {
      "cell_type": "code",
      "metadata": {
        "id": "loSpZ0Sg39Z3",
        "colab_type": "code",
        "outputId": "f0cd00fd-2b9d-4f6c-a1d9-4cc8a60d4951",
        "colab": {
          "base_uri": "https://localhost:8080/",
          "height": 34
        }
      },
      "source": [
        "type(vocab)"
      ],
      "execution_count": 0,
      "outputs": [
        {
          "output_type": "execute_result",
          "data": {
            "text/plain": [
              "tuple"
            ]
          },
          "metadata": {
            "tags": []
          },
          "execution_count": 24
        }
      ]
    },
    {
      "cell_type": "code",
      "metadata": {
        "id": "LAnlkdmq4A59",
        "colab_type": "code",
        "outputId": "18cb4317-f04e-4bd1-8fd8-011e754b81c8",
        "colab": {
          "base_uri": "https://localhost:8080/",
          "height": 34
        }
      },
      "source": [
        "len(vocab)"
      ],
      "execution_count": 0,
      "outputs": [
        {
          "output_type": "execute_result",
          "data": {
            "text/plain": [
              "4934"
            ]
          },
          "metadata": {
            "tags": []
          },
          "execution_count": 25
        }
      ]
    },
    {
      "cell_type": "code",
      "metadata": {
        "id": "tSwwXRBf4gmz",
        "colab_type": "code",
        "outputId": "bed467e8-fef6-470b-ac26-b38b6e6fe120",
        "colab": {
          "base_uri": "https://localhost:8080/",
          "height": 34
        }
      },
      "source": [
        "len(mydict)"
      ],
      "execution_count": 0,
      "outputs": [
        {
          "output_type": "execute_result",
          "data": {
            "text/plain": [
              "4934"
            ]
          },
          "metadata": {
            "tags": []
          },
          "execution_count": 26
        }
      ]
    },
    {
      "cell_type": "code",
      "metadata": {
        "id": "co_slaRU4xDS",
        "colab_type": "code",
        "outputId": "3a8c487d-839d-4680-a722-052490c1b7c3",
        "colab": {
          "base_uri": "https://localhost:8080/",
          "height": 84
        }
      },
      "source": [
        "for i, topic_dist in enumerate(topic_word):\n",
        ">>>     topic_words = np.array(vocab)[np.argsort(topic_dist)][:-(n_top_words+1):-1]\n",
        ">>>     print('Topic {}: {}'.format(i, ' '.join(topic_words)))"
      ],
      "execution_count": 0,
      "outputs": [
        {
          "output_type": "stream",
          "text": [
            "Topic 0: science comment submission peer reviewed article rule removed\n",
            "Topic 1: submission removed peer reviewed new research reference include\n",
            "Topic 2: people study like thing work isn know mean\n",
            "Topic 3: submission removed repost story submitted popular allowed sorry\n"
          ],
          "name": "stdout"
        }
      ]
    },
    {
      "cell_type": "code",
      "metadata": {
        "id": "y3JcFF_p6sHc",
        "colab_type": "code",
        "outputId": "b69e9bba-b072-4530-cb2f-39ad9dbcf3d5",
        "colab": {
          "base_uri": "https://localhost:8080/",
          "height": 34
        }
      },
      "source": [
        "len(vocab)"
      ],
      "execution_count": 0,
      "outputs": [
        {
          "output_type": "execute_result",
          "data": {
            "text/plain": [
              "4934"
            ]
          },
          "metadata": {
            "tags": []
          },
          "execution_count": 28
        }
      ]
    },
    {
      "cell_type": "code",
      "metadata": {
        "id": "lxoCxNXwiPnK",
        "colab_type": "code",
        "outputId": "c5ace4bd-f4c5-4b7c-f120-9b3fd59d2ea1",
        "colab": {
          "base_uri": "https://localhost:8080/",
          "height": 34
        }
      },
      "source": [
        "\"because\" in vocab"
      ],
      "execution_count": 0,
      "outputs": [
        {
          "output_type": "execute_result",
          "data": {
            "text/plain": [
              "False"
            ]
          },
          "metadata": {
            "tags": []
          },
          "execution_count": 49
        }
      ]
    },
    {
      "cell_type": "code",
      "metadata": {
        "id": "CWOty2KhiSMC",
        "colab_type": "code",
        "colab": {}
      },
      "source": [
        "\n",
        "seed_topic_list = [['removed', 'remove', 'banned', 'ban', 'warned', 'spam'],\n",
        "               ['recommend', 'look', 'try'],\n",
        "               ['rule','guideline','reason','removal',\"dedicated\",\"allowed\",\"peer\",\"reviewed\" ]]"
      ],
      "execution_count": 0,
      "outputs": []
    },
    {
      "cell_type": "code",
      "metadata": {
        "id": "bfuCzQzPi-qS",
        "colab_type": "code",
        "colab": {}
      },
      "source": [
        "model = guidedlda.GuidedLDA(n_topics=4, n_iter=100, random_state=7, refresh=20)\n"
      ],
      "execution_count": 0,
      "outputs": []
    },
    {
      "cell_type": "code",
      "metadata": {
        "id": "kLK_wYSGjEaT",
        "colab_type": "code",
        "colab": {}
      },
      "source": [
        "seed_topics = {}"
      ],
      "execution_count": 0,
      "outputs": []
    },
    {
      "cell_type": "code",
      "metadata": {
        "id": "37mdR3MvjGnQ",
        "colab_type": "code",
        "colab": {}
      },
      "source": [
        "for t_id, st in enumerate(seed_topic_list):\n",
        ">>>     for word in st:\n",
        ">>>         seed_topics[word2id[word]] = t_id"
      ],
      "execution_count": 0,
      "outputs": []
    },
    {
      "cell_type": "code",
      "metadata": {
        "id": "sZuWSQFajIir",
        "colab_type": "code",
        "outputId": "cceb799e-3763-4d53-c58f-5c1e2ddd85cc",
        "colab": {
          "base_uri": "https://localhost:8080/",
          "height": 235
        }
      },
      "source": [
        "model.fit(X, seed_topics=seed_topics, seed_confidence=0.2)"
      ],
      "execution_count": 0,
      "outputs": [
        {
          "output_type": "stream",
          "text": [
            "INFO:guidedlda:n_documents: 3086\n",
            "INFO:guidedlda:vocab_size: 4934\n",
            "INFO:guidedlda:n_words: 35443\n",
            "INFO:guidedlda:n_topics: 4\n",
            "INFO:guidedlda:n_iter: 100\n",
            "WARNING:guidedlda:all zero row in document-term matrix found\n",
            "INFO:guidedlda:<0> log likelihood: -343836\n",
            "INFO:guidedlda:<20> log likelihood: -245400\n",
            "INFO:guidedlda:<40> log likelihood: -241038\n",
            "INFO:guidedlda:<60> log likelihood: -239368\n",
            "INFO:guidedlda:<80> log likelihood: -238068\n",
            "INFO:guidedlda:<99> log likelihood: -236812\n"
          ],
          "name": "stderr"
        },
        {
          "output_type": "execute_result",
          "data": {
            "text/plain": [
              "<guidedlda.guidedlda.GuidedLDA at 0x7f2d156a1978>"
            ]
          },
          "metadata": {
            "tags": []
          },
          "execution_count": 54
        }
      ]
    },
    {
      "cell_type": "code",
      "metadata": {
        "id": "7au9Akp8jKpT",
        "colab_type": "code",
        "outputId": "fdcd06eb-c18c-49a3-aa3d-0a74bb1a2ee8",
        "colab": {
          "base_uri": "https://localhost:8080/",
          "height": 84
        }
      },
      "source": [
        "n_top_words = 10\n",
        ">>> topic_word = model.topic_word_\n",
        ">>> for i, topic_dist in enumerate(topic_word):\n",
        ">>>     topic_words = np.array(vocab)[np.argsort(topic_dist)][:-(n_top_words+1):-1]\n",
        ">>>     print('Topic {}: {}'.format(i, ' '.join(topic_words)))"
      ],
      "execution_count": 0,
      "outputs": [
        {
          "output_type": "stream",
          "text": [
            "Topic 0: submission removed repost story submitted popular science comment link peer\n",
            "Topic 1: thing like people think work isn know mean time study\n",
            "Topic 2: submission removed peer reviewed new research reference include sorry hi\n",
            "Topic 3: science comment http article people study www journal title com\n"
          ],
          "name": "stdout"
        }
      ]
    },
    {
      "cell_type": "code",
      "metadata": {
        "id": "__BL-VUbjSKG",
        "colab_type": "code",
        "outputId": "c68ae9e4-f013-4ebf-c2c2-d3f900648437",
        "colab": {
          "base_uri": "https://localhost:8080/",
          "height": 185
        }
      },
      "source": [
        "doc_topic = model.transform(X)\n",
        ">>> for i in range(9):\n",
        ">>>     print(\"top topic: {} Document: {}\".format(doc_topic[i].argmax(),\n",
        "                                                  ', '.join(np.array(vocab)[list(reversed(X[i,:].argsort()))[0:5]])))"
      ],
      "execution_count": 0,
      "outputs": [
        {
          "output_type": "stream",
          "text": [
            "WARNING:guidedlda:all zero row in document-term matrix found\n"
          ],
          "name": "stderr"
        },
        {
          "output_type": "stream",
          "text": [
            "top topic: 0 Document: blogspam, image, infographic, post, removed\n",
            "top topic: 2 Document: reviewed, new, submission, research, reference\n",
            "top topic: 2 Document: reviewed, new, submission, research, reference\n",
            "top topic: 2 Document: reviewed, new, submission, research, reference\n",
            "top topic: 0 Document: removed, scientific, nature, submission, entitled\n",
            "top topic: 2 Document: reviewed, new, submission, research, reference\n",
            "top topic: 0 Document: removed, scientific, nature, submission, entitled\n",
            "top topic: 2 Document: reviewed, new, submission, research, reference\n",
            "top topic: 0 Document: reapproval, citation, comment, direct, submission\n"
          ],
          "name": "stdout"
        }
      ]
    },
    {
      "cell_type": "code",
      "metadata": {
        "id": "NLHOaShUjkYJ",
        "colab_type": "code",
        "outputId": "aa05013e-8495-4239-f7bf-ec6b31f3e1c3",
        "colab": {
          "base_uri": "https://localhost:8080/",
          "height": 34
        }
      },
      "source": [
        ""
      ],
      "execution_count": 0,
      "outputs": [
        {
          "output_type": "stream",
          "text": [
            "<class 'numpy.ndarray'>\n"
          ],
          "name": "stdout"
        }
      ]
    },
    {
      "cell_type": "code",
      "metadata": {
        "id": "BDlsw3Nwj5om",
        "colab_type": "code",
        "colab": {}
      },
      "source": [
        ""
      ],
      "execution_count": 0,
      "outputs": []
    },
    {
      "cell_type": "code",
      "metadata": {
        "id": "FI302-JJj9aD",
        "colab_type": "code",
        "outputId": "4147bf12-e503-4c1f-9280-a39a9ba56e2d",
        "colab": {
          "base_uri": "https://localhost:8080/",
          "height": 84
        }
      },
      "source": [
        ""
      ],
      "execution_count": 0,
      "outputs": [
        {
          "output_type": "execute_result",
          "data": {
            "text/plain": [
              "[0.001233205868455609,\n",
              " 0.00010469412787614679,\n",
              " 0.9985271931341778,\n",
              " 0.000134906869490618]"
            ]
          },
          "metadata": {
            "tags": []
          },
          "execution_count": 59
        }
      ]
    },
    {
      "cell_type": "code",
      "metadata": {
        "id": "QMRbNlvwkUyH",
        "colab_type": "code",
        "outputId": "80483d7c-1052-43b2-c0a9-dc018b7b50ab",
        "colab": {
          "base_uri": "https://localhost:8080/",
          "height": 34
        }
      },
      "source": [
        ""
      ],
      "execution_count": 0,
      "outputs": [
        {
          "output_type": "execute_result",
          "data": {
            "text/plain": [
              "9.30783645220705e-05"
            ]
          },
          "metadata": {
            "tags": []
          },
          "execution_count": 60
        }
      ]
    },
    {
      "cell_type": "code",
      "metadata": {
        "id": "gJyRKM5Akx-3",
        "colab_type": "code",
        "colab": {}
      },
      "source": [
        "df=pd.DataFrame(doc_topic)"
      ],
      "execution_count": 0,
      "outputs": []
    },
    {
      "cell_type": "code",
      "metadata": {
        "id": "Brm5WurxJJWK",
        "colab_type": "code",
        "outputId": "1de5e96c-c3a3-4420-c1d5-424e6e185520",
        "colab": {
          "base_uri": "https://localhost:8080/",
          "height": 402
        }
      },
      "source": [
        "df.applymap(float)"
      ],
      "execution_count": 0,
      "outputs": [
        {
          "output_type": "execute_result",
          "data": {
            "text/html": [
              "<div>\n",
              "<style scoped>\n",
              "    .dataframe tbody tr th:only-of-type {\n",
              "        vertical-align: middle;\n",
              "    }\n",
              "\n",
              "    .dataframe tbody tr th {\n",
              "        vertical-align: top;\n",
              "    }\n",
              "\n",
              "    .dataframe thead th {\n",
              "        text-align: right;\n",
              "    }\n",
              "</style>\n",
              "<table border=\"1\" class=\"dataframe\">\n",
              "  <thead>\n",
              "    <tr style=\"text-align: right;\">\n",
              "      <th></th>\n",
              "      <th>0</th>\n",
              "      <th>1</th>\n",
              "      <th>2</th>\n",
              "      <th>3</th>\n",
              "    </tr>\n",
              "  </thead>\n",
              "  <tbody>\n",
              "    <tr>\n",
              "      <th>0</th>\n",
              "      <td>0.635683</td>\n",
              "      <td>0.000172</td>\n",
              "      <td>0.363956</td>\n",
              "      <td>0.000188</td>\n",
              "    </tr>\n",
              "    <tr>\n",
              "      <th>1</th>\n",
              "      <td>0.000463</td>\n",
              "      <td>0.000013</td>\n",
              "      <td>0.999506</td>\n",
              "      <td>0.000018</td>\n",
              "    </tr>\n",
              "    <tr>\n",
              "      <th>2</th>\n",
              "      <td>0.000463</td>\n",
              "      <td>0.000013</td>\n",
              "      <td>0.999506</td>\n",
              "      <td>0.000018</td>\n",
              "    </tr>\n",
              "    <tr>\n",
              "      <th>3</th>\n",
              "      <td>0.000463</td>\n",
              "      <td>0.000013</td>\n",
              "      <td>0.999506</td>\n",
              "      <td>0.000018</td>\n",
              "    </tr>\n",
              "    <tr>\n",
              "      <th>4</th>\n",
              "      <td>0.989631</td>\n",
              "      <td>0.000130</td>\n",
              "      <td>0.009434</td>\n",
              "      <td>0.000806</td>\n",
              "    </tr>\n",
              "    <tr>\n",
              "      <th>...</th>\n",
              "      <td>...</td>\n",
              "      <td>...</td>\n",
              "      <td>...</td>\n",
              "      <td>...</td>\n",
              "    </tr>\n",
              "    <tr>\n",
              "      <th>3081</th>\n",
              "      <td>0.988293</td>\n",
              "      <td>0.011202</td>\n",
              "      <td>0.000014</td>\n",
              "      <td>0.000491</td>\n",
              "    </tr>\n",
              "    <tr>\n",
              "      <th>3082</th>\n",
              "      <td>0.000193</td>\n",
              "      <td>0.998922</td>\n",
              "      <td>0.000449</td>\n",
              "      <td>0.000437</td>\n",
              "    </tr>\n",
              "    <tr>\n",
              "      <th>3083</th>\n",
              "      <td>0.013890</td>\n",
              "      <td>0.963514</td>\n",
              "      <td>0.011267</td>\n",
              "      <td>0.011328</td>\n",
              "    </tr>\n",
              "    <tr>\n",
              "      <th>3084</th>\n",
              "      <td>0.002025</td>\n",
              "      <td>0.001096</td>\n",
              "      <td>0.003125</td>\n",
              "      <td>0.993754</td>\n",
              "    </tr>\n",
              "    <tr>\n",
              "      <th>3085</th>\n",
              "      <td>0.004684</td>\n",
              "      <td>0.219477</td>\n",
              "      <td>0.000096</td>\n",
              "      <td>0.775743</td>\n",
              "    </tr>\n",
              "  </tbody>\n",
              "</table>\n",
              "<p>3086 rows × 4 columns</p>\n",
              "</div>"
            ],
            "text/plain": [
              "             0         1         2         3\n",
              "0     0.635683  0.000172  0.363956  0.000188\n",
              "1     0.000463  0.000013  0.999506  0.000018\n",
              "2     0.000463  0.000013  0.999506  0.000018\n",
              "3     0.000463  0.000013  0.999506  0.000018\n",
              "4     0.989631  0.000130  0.009434  0.000806\n",
              "...        ...       ...       ...       ...\n",
              "3081  0.988293  0.011202  0.000014  0.000491\n",
              "3082  0.000193  0.998922  0.000449  0.000437\n",
              "3083  0.013890  0.963514  0.011267  0.011328\n",
              "3084  0.002025  0.001096  0.003125  0.993754\n",
              "3085  0.004684  0.219477  0.000096  0.775743\n",
              "\n",
              "[3086 rows x 4 columns]"
            ]
          },
          "metadata": {
            "tags": []
          },
          "execution_count": 62
        }
      ]
    },
    {
      "cell_type": "code",
      "metadata": {
        "id": "eXxHYpRhJYjC",
        "colab_type": "code",
        "colab": {}
      },
      "source": [
        "re=pd.concat([x,df],axis=1)"
      ],
      "execution_count": 0,
      "outputs": []
    },
    {
      "cell_type": "code",
      "metadata": {
        "id": "V6fY_HlEJ2Ez",
        "colab_type": "code",
        "colab": {}
      },
      "source": [
        "re.to_csv(\"science_new_withlabels.csv\")"
      ],
      "execution_count": 0,
      "outputs": []
    },
    {
      "cell_type": "code",
      "metadata": {
        "id": "3iFhP4GiJ_P8",
        "colab_type": "code",
        "colab": {}
      },
      "source": [
        ""
      ],
      "execution_count": 0,
      "outputs": []
    }
  ]
}